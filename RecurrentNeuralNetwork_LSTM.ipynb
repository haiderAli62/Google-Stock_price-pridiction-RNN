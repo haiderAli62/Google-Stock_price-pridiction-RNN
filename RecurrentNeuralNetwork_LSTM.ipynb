{
  "nbformat": 4,
  "nbformat_minor": 0,
  "metadata": {
    "colab": {
      "name": "RecurrentNeuralNetwork-LSTM.ipynb",
      "version": "0.3.2",
      "provenance": [],
      "collapsed_sections": [],
      "include_colab_link": true
    },
    "kernelspec": {
      "name": "python3",
      "display_name": "Python 3"
    }
  },
  "cells": [
    {
      "cell_type": "markdown",
      "metadata": {
        "id": "view-in-github",
        "colab_type": "text"
      },
      "source": [
        "<a href=\"https://colab.research.google.com/github/haiderAli62/Google-Stock_price-pridiction-RNN/blob/master/RecurrentNeuralNetwork_LSTM.ipynb\" target=\"_parent\"><img src=\"https://colab.research.google.com/assets/colab-badge.svg\" alt=\"Open In Colab\"/></a>"
      ]
    },
    {
      "metadata": {
        "id": "N7pRC9Z9sEZR",
        "colab_type": "text"
      },
      "cell_type": "markdown",
      "source": [
        "**Recurrent Neural Network **\n",
        "\n",
        "---\n",
        "\n",
        "In this notebook we are going to create a recurrent neural network by applying  lstm model to predict time series of google stock prices \n",
        "lets start."
      ]
    },
    {
      "metadata": {
        "id": "VTy-jaFmscpF",
        "colab_type": "code",
        "colab": {}
      },
      "cell_type": "code",
      "source": [
        "#part 1 : Data preprocessig\n",
        "import numpy as np\n",
        "import pandas as pd\n",
        "import matplotlib.pyplot as plt"
      ],
      "execution_count": 0,
      "outputs": []
    },
    {
      "metadata": {
        "id": "aUszuwSAspbS",
        "colab_type": "code",
        "colab": {
          "resources": {
            "http://localhost:8080/nbextensions/google.colab/files.js": {
              "data": "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",
              "ok": true,
              "headers": [
                [
                  "content-type",
                  "application/javascript"
                ]
              ],
              "status": 200,
              "status_text": ""
            }
          },
          "base_uri": "https://localhost:8080/",
          "height": 74
        },
        "outputId": "ca8d31c0-0843-4661-d605-073115d53573"
      },
      "cell_type": "code",
      "source": [
        "#improting the trainning set\n",
        "from google.colab import files\n",
        "uploaded = files.upload()"
      ],
      "execution_count": 3,
      "outputs": [
        {
          "output_type": "display_data",
          "data": {
            "text/html": [
              "\n",
              "     <input type=\"file\" id=\"files-dc954666-8137-4541-9306-a7b5eb29a891\" name=\"files[]\" multiple disabled />\n",
              "     <output id=\"result-dc954666-8137-4541-9306-a7b5eb29a891\">\n",
              "      Upload widget is only available when the cell has been executed in the\n",
              "      current browser session. Please rerun this cell to enable.\n",
              "      </output>\n",
              "      <script src=\"/nbextensions/google.colab/files.js\"></script> "
            ],
            "text/plain": [
              "<IPython.core.display.HTML object>"
            ]
          },
          "metadata": {
            "tags": []
          }
        },
        {
          "output_type": "stream",
          "text": [
            "Saving Google_Stock_Price_Train.csv to Google_Stock_Price_Train.csv\n"
          ],
          "name": "stdout"
        }
      ]
    },
    {
      "metadata": {
        "id": "ww8oOcDbtDj1",
        "colab_type": "code",
        "colab": {}
      },
      "cell_type": "code",
      "source": [
        "import io\n",
        "training_set = pd.read_csv(io.BytesIO(uploaded['Google_Stock_Price_Train.csv']))"
      ],
      "execution_count": 0,
      "outputs": []
    },
    {
      "metadata": {
        "id": "5JKCKcPKtYlM",
        "colab_type": "code",
        "colab": {}
      },
      "cell_type": "code",
      "source": [
        "training_set = training_set.iloc[:,1:2].values"
      ],
      "execution_count": 0,
      "outputs": []
    },
    {
      "metadata": {
        "id": "p5oDOOohtqVJ",
        "colab_type": "code",
        "colab": {}
      },
      "cell_type": "code",
      "source": [
        "# feature scalling\n",
        "from sklearn.preprocessing import MinMaxScaler\n",
        "sc = MinMaxScaler()\n",
        "training_set = sc.fit_transform(training_set)"
      ],
      "execution_count": 0,
      "outputs": []
    },
    {
      "metadata": {
        "id": "nX1SO7U6v--D",
        "colab_type": "code",
        "colab": {}
      },
      "cell_type": "code",
      "source": [
        "# getting the inputs and the outputs\n",
        "X_train = training_set[0:1257]\n",
        "y_train = training_set[1:1258]"
      ],
      "execution_count": 0,
      "outputs": []
    },
    {
      "metadata": {
        "id": "kcnPBjMCv90X",
        "colab_type": "code",
        "colab": {}
      },
      "cell_type": "code",
      "source": [
        "# resahpe because LStm fit method accept 3d array and it is 2d\n",
        "X_train = np.reshape(X_train , (1257 , 1 ,1 ))"
      ],
      "execution_count": 0,
      "outputs": []
    },
    {
      "metadata": {
        "id": "ETJH3FT74zel",
        "colab_type": "text"
      },
      "cell_type": "markdown",
      "source": [
        "**Part II : Building the model**"
      ]
    },
    {
      "metadata": {
        "id": "yMrhc3WB02cl",
        "colab_type": "code",
        "colab": {
          "base_uri": "https://localhost:8080/",
          "height": 34
        },
        "outputId": "eba99bbf-142f-468e-cec9-2cfb2aaa6b2e"
      },
      "cell_type": "code",
      "source": [
        "# Importing libraries\n",
        "from keras.models import Sequential\n",
        "from keras.layers import Dense\n",
        "from keras.layers import LSTM"
      ],
      "execution_count": 17,
      "outputs": [
        {
          "output_type": "stream",
          "text": [
            "Using TensorFlow backend.\n"
          ],
          "name": "stderr"
        }
      ]
    },
    {
      "metadata": {
        "id": "gJxoX3hI0CzN",
        "colab_type": "code",
        "colab": {
          "base_uri": "https://localhost:8080/",
          "height": 88
        },
        "outputId": "93336663-cb38-4905-ddbd-45c11ca2f665"
      },
      "cell_type": "code",
      "source": [
        "# Innitializing the RNN\n",
        "regressor = Sequential()\n",
        "regressor.add(LSTM(units = 4 , activation = 'sigmoid' , input_shape =(None , 1)))   # adding the input and the lstm layer\n",
        "regressor.add(Dense(units = 1))"
      ],
      "execution_count": 19,
      "outputs": [
        {
          "output_type": "stream",
          "text": [
            "WARNING:tensorflow:From /usr/local/lib/python3.6/dist-packages/tensorflow/python/framework/op_def_library.py:263: colocate_with (from tensorflow.python.framework.ops) is deprecated and will be removed in a future version.\n",
            "Instructions for updating:\n",
            "Colocations handled automatically by placer.\n"
          ],
          "name": "stdout"
        }
      ]
    },
    {
      "metadata": {
        "id": "sjfWelTX23LI",
        "colab_type": "code",
        "colab": {}
      },
      "cell_type": "code",
      "source": [
        "# compiling the rnn\n",
        "regressor.compile(optimizer = 'adam' , loss = 'mean_squared_error')"
      ],
      "execution_count": 0,
      "outputs": []
    },
    {
      "metadata": {
        "id": "LR3GnE8t4Ar_",
        "colab_type": "code",
        "colab": {
          "base_uri": "https://localhost:8080/",
          "height": 6905
        },
        "outputId": "0824d8e1-9cd0-4850-9e65-ec55f1527de5"
      },
      "cell_type": "code",
      "source": [
        "# training\n",
        "regressor.fit(X_train ,y_train , batch_size = 32 ,epochs = 200)"
      ],
      "execution_count": 21,
      "outputs": [
        {
          "output_type": "stream",
          "text": [
            "WARNING:tensorflow:From /usr/local/lib/python3.6/dist-packages/tensorflow/python/ops/math_ops.py:3066: to_int32 (from tensorflow.python.ops.math_ops) is deprecated and will be removed in a future version.\n",
            "Instructions for updating:\n",
            "Use tf.cast instead.\n",
            "Epoch 1/200\n",
            "1257/1257 [==============================] - 1s 951us/step - loss: 0.2213\n",
            "Epoch 2/200\n",
            "1257/1257 [==============================] - 0s 78us/step - loss: 0.1575\n",
            "Epoch 3/200\n",
            "1257/1257 [==============================] - 0s 79us/step - loss: 0.1178\n",
            "Epoch 4/200\n",
            "1257/1257 [==============================] - 0s 85us/step - loss: 0.0954\n",
            "Epoch 5/200\n",
            "1257/1257 [==============================] - 0s 73us/step - loss: 0.0839\n",
            "Epoch 6/200\n",
            "1257/1257 [==============================] - 0s 75us/step - loss: 0.0782\n",
            "Epoch 7/200\n",
            "1257/1257 [==============================] - 0s 77us/step - loss: 0.0753\n",
            "Epoch 8/200\n",
            "1257/1257 [==============================] - 0s 72us/step - loss: 0.0735\n",
            "Epoch 9/200\n",
            "1257/1257 [==============================] - 0s 75us/step - loss: 0.0721\n",
            "Epoch 10/200\n",
            "1257/1257 [==============================] - 0s 70us/step - loss: 0.0707\n",
            "Epoch 11/200\n",
            "1257/1257 [==============================] - 0s 69us/step - loss: 0.0694\n",
            "Epoch 12/200\n",
            "1257/1257 [==============================] - 0s 70us/step - loss: 0.0680\n",
            "Epoch 13/200\n",
            "1257/1257 [==============================] - 0s 73us/step - loss: 0.0665\n",
            "Epoch 14/200\n",
            "1257/1257 [==============================] - 0s 71us/step - loss: 0.0650\n",
            "Epoch 15/200\n",
            "1257/1257 [==============================] - 0s 71us/step - loss: 0.0635\n",
            "Epoch 16/200\n",
            "1257/1257 [==============================] - 0s 63us/step - loss: 0.0619\n",
            "Epoch 17/200\n",
            "1257/1257 [==============================] - 0s 60us/step - loss: 0.0603\n",
            "Epoch 18/200\n",
            "1257/1257 [==============================] - 0s 59us/step - loss: 0.0587\n",
            "Epoch 19/200\n",
            "1257/1257 [==============================] - 0s 60us/step - loss: 0.0571\n",
            "Epoch 20/200\n",
            "1257/1257 [==============================] - 0s 61us/step - loss: 0.0554\n",
            "Epoch 21/200\n",
            "1257/1257 [==============================] - 0s 60us/step - loss: 0.0537\n",
            "Epoch 22/200\n",
            "1257/1257 [==============================] - 0s 59us/step - loss: 0.0520\n",
            "Epoch 23/200\n",
            "1257/1257 [==============================] - 0s 60us/step - loss: 0.0503\n",
            "Epoch 24/200\n",
            "1257/1257 [==============================] - 0s 58us/step - loss: 0.0486\n",
            "Epoch 25/200\n",
            "1257/1257 [==============================] - 0s 60us/step - loss: 0.0468\n",
            "Epoch 26/200\n",
            "1257/1257 [==============================] - 0s 60us/step - loss: 0.0450\n",
            "Epoch 27/200\n",
            "1257/1257 [==============================] - 0s 69us/step - loss: 0.0432\n",
            "Epoch 28/200\n",
            "1257/1257 [==============================] - 0s 63us/step - loss: 0.0414\n",
            "Epoch 29/200\n",
            "1257/1257 [==============================] - 0s 60us/step - loss: 0.0396\n",
            "Epoch 30/200\n",
            "1257/1257 [==============================] - 0s 62us/step - loss: 0.0378\n",
            "Epoch 31/200\n",
            "1257/1257 [==============================] - 0s 60us/step - loss: 0.0359\n",
            "Epoch 32/200\n",
            "1257/1257 [==============================] - 0s 59us/step - loss: 0.0341\n",
            "Epoch 33/200\n",
            "1257/1257 [==============================] - 0s 60us/step - loss: 0.0322\n",
            "Epoch 34/200\n",
            "1257/1257 [==============================] - 0s 60us/step - loss: 0.0304\n",
            "Epoch 35/200\n",
            "1257/1257 [==============================] - 0s 62us/step - loss: 0.0286\n",
            "Epoch 36/200\n",
            "1257/1257 [==============================] - 0s 61us/step - loss: 0.0268\n",
            "Epoch 37/200\n",
            "1257/1257 [==============================] - 0s 61us/step - loss: 0.0251\n",
            "Epoch 38/200\n",
            "1257/1257 [==============================] - 0s 60us/step - loss: 0.0234\n",
            "Epoch 39/200\n",
            "1257/1257 [==============================] - 0s 63us/step - loss: 0.0217\n",
            "Epoch 40/200\n",
            "1257/1257 [==============================] - 0s 59us/step - loss: 0.0201\n",
            "Epoch 41/200\n",
            "1257/1257 [==============================] - 0s 64us/step - loss: 0.0184\n",
            "Epoch 42/200\n",
            "1257/1257 [==============================] - 0s 61us/step - loss: 0.0169\n",
            "Epoch 43/200\n",
            "1257/1257 [==============================] - 0s 62us/step - loss: 0.0154\n",
            "Epoch 44/200\n",
            "1257/1257 [==============================] - 0s 59us/step - loss: 0.0140\n",
            "Epoch 45/200\n",
            "1257/1257 [==============================] - 0s 58us/step - loss: 0.0127\n",
            "Epoch 46/200\n",
            "1257/1257 [==============================] - 0s 59us/step - loss: 0.0114\n",
            "Epoch 47/200\n",
            "1257/1257 [==============================] - 0s 63us/step - loss: 0.0102\n",
            "Epoch 48/200\n",
            "1257/1257 [==============================] - 0s 63us/step - loss: 0.0091\n",
            "Epoch 49/200\n",
            "1257/1257 [==============================] - 0s 59us/step - loss: 0.0080\n",
            "Epoch 50/200\n",
            "1257/1257 [==============================] - 0s 58us/step - loss: 0.0071\n",
            "Epoch 51/200\n",
            "1257/1257 [==============================] - 0s 59us/step - loss: 0.0062\n",
            "Epoch 52/200\n",
            "1257/1257 [==============================] - 0s 59us/step - loss: 0.0054\n",
            "Epoch 53/200\n",
            "1257/1257 [==============================] - 0s 59us/step - loss: 0.0047\n",
            "Epoch 54/200\n",
            "1257/1257 [==============================] - 0s 64us/step - loss: 0.0040\n",
            "Epoch 55/200\n",
            "1257/1257 [==============================] - 0s 61us/step - loss: 0.0034\n",
            "Epoch 56/200\n",
            "1257/1257 [==============================] - 0s 63us/step - loss: 0.0029\n",
            "Epoch 57/200\n",
            "1257/1257 [==============================] - 0s 59us/step - loss: 0.0025\n",
            "Epoch 58/200\n",
            "1257/1257 [==============================] - 0s 59us/step - loss: 0.0021\n",
            "Epoch 59/200\n",
            "1257/1257 [==============================] - 0s 58us/step - loss: 0.0018\n",
            "Epoch 60/200\n",
            "1257/1257 [==============================] - 0s 58us/step - loss: 0.0015\n",
            "Epoch 61/200\n",
            "1257/1257 [==============================] - 0s 61us/step - loss: 0.0013\n",
            "Epoch 62/200\n",
            "1257/1257 [==============================] - 0s 58us/step - loss: 0.0011\n",
            "Epoch 63/200\n",
            "1257/1257 [==============================] - 0s 59us/step - loss: 9.0509e-04\n",
            "Epoch 64/200\n",
            "1257/1257 [==============================] - 0s 60us/step - loss: 7.7018e-04\n",
            "Epoch 65/200\n",
            "1257/1257 [==============================] - 0s 59us/step - loss: 6.5890e-04\n",
            "Epoch 66/200\n",
            "1257/1257 [==============================] - 0s 60us/step - loss: 5.6868e-04\n",
            "Epoch 67/200\n",
            "1257/1257 [==============================] - 0s 60us/step - loss: 4.9661e-04\n",
            "Epoch 68/200\n",
            "1257/1257 [==============================] - 0s 60us/step - loss: 4.3841e-04\n",
            "Epoch 69/200\n",
            "1257/1257 [==============================] - 0s 60us/step - loss: 3.9326e-04\n",
            "Epoch 70/200\n",
            "1257/1257 [==============================] - 0s 60us/step - loss: 3.5790e-04\n",
            "Epoch 71/200\n",
            "1257/1257 [==============================] - 0s 58us/step - loss: 3.3067e-04\n",
            "Epoch 72/200\n",
            "1257/1257 [==============================] - 0s 60us/step - loss: 3.0837e-04\n",
            "Epoch 73/200\n",
            "1257/1257 [==============================] - 0s 60us/step - loss: 2.9212e-04\n",
            "Epoch 74/200\n",
            "1257/1257 [==============================] - 0s 60us/step - loss: 2.7916e-04\n",
            "Epoch 75/200\n",
            "1257/1257 [==============================] - 0s 58us/step - loss: 2.7035e-04\n",
            "Epoch 76/200\n",
            "1257/1257 [==============================] - 0s 59us/step - loss: 2.6375e-04\n",
            "Epoch 77/200\n",
            "1257/1257 [==============================] - 0s 58us/step - loss: 2.5835e-04\n",
            "Epoch 78/200\n",
            "1257/1257 [==============================] - 0s 59us/step - loss: 2.5446e-04\n",
            "Epoch 79/200\n",
            "1257/1257 [==============================] - 0s 61us/step - loss: 2.5286e-04\n",
            "Epoch 80/200\n",
            "1257/1257 [==============================] - 0s 61us/step - loss: 2.4933e-04\n",
            "Epoch 81/200\n",
            "1257/1257 [==============================] - 0s 60us/step - loss: 2.4796e-04\n",
            "Epoch 82/200\n",
            "1257/1257 [==============================] - 0s 59us/step - loss: 2.4711e-04\n",
            "Epoch 83/200\n",
            "1257/1257 [==============================] - 0s 58us/step - loss: 2.4634e-04\n",
            "Epoch 84/200\n",
            "1257/1257 [==============================] - 0s 60us/step - loss: 2.4563e-04\n",
            "Epoch 85/200\n",
            "1257/1257 [==============================] - 0s 60us/step - loss: 2.4520e-04\n",
            "Epoch 86/200\n",
            "1257/1257 [==============================] - 0s 59us/step - loss: 2.4484e-04\n",
            "Epoch 87/200\n",
            "1257/1257 [==============================] - 0s 59us/step - loss: 2.4523e-04\n",
            "Epoch 88/200\n",
            "1257/1257 [==============================] - 0s 60us/step - loss: 2.4508e-04\n",
            "Epoch 89/200\n",
            "1257/1257 [==============================] - 0s 60us/step - loss: 2.4471e-04\n",
            "Epoch 90/200\n",
            "1257/1257 [==============================] - 0s 58us/step - loss: 2.4480e-04\n",
            "Epoch 91/200\n",
            "1257/1257 [==============================] - 0s 60us/step - loss: 2.4458e-04\n",
            "Epoch 92/200\n",
            "1257/1257 [==============================] - 0s 60us/step - loss: 2.4497e-04\n",
            "Epoch 93/200\n",
            "1257/1257 [==============================] - 0s 59us/step - loss: 2.4497e-04\n",
            "Epoch 94/200\n",
            "1257/1257 [==============================] - 0s 61us/step - loss: 2.4596e-04\n",
            "Epoch 95/200\n",
            "1257/1257 [==============================] - 0s 59us/step - loss: 2.4478e-04\n",
            "Epoch 96/200\n",
            "1257/1257 [==============================] - 0s 59us/step - loss: 2.4491e-04\n",
            "Epoch 97/200\n",
            "1257/1257 [==============================] - 0s 59us/step - loss: 2.4471e-04\n",
            "Epoch 98/200\n",
            "1257/1257 [==============================] - 0s 60us/step - loss: 2.4582e-04\n",
            "Epoch 99/200\n",
            "1257/1257 [==============================] - 0s 59us/step - loss: 2.4593e-04\n",
            "Epoch 100/200\n",
            "1257/1257 [==============================] - 0s 60us/step - loss: 2.4488e-04\n",
            "Epoch 101/200\n",
            "1257/1257 [==============================] - 0s 63us/step - loss: 2.4459e-04\n",
            "Epoch 102/200\n",
            "1257/1257 [==============================] - 0s 61us/step - loss: 2.4697e-04\n",
            "Epoch 103/200\n",
            "1257/1257 [==============================] - 0s 58us/step - loss: 2.4483e-04\n",
            "Epoch 104/200\n",
            "1257/1257 [==============================] - 0s 58us/step - loss: 2.4444e-04\n",
            "Epoch 105/200\n",
            "1257/1257 [==============================] - 0s 58us/step - loss: 2.4533e-04\n",
            "Epoch 106/200\n",
            "1257/1257 [==============================] - 0s 60us/step - loss: 2.4615e-04\n",
            "Epoch 107/200\n",
            "1257/1257 [==============================] - 0s 62us/step - loss: 2.4482e-04\n",
            "Epoch 108/200\n",
            "1257/1257 [==============================] - 0s 59us/step - loss: 2.4491e-04\n",
            "Epoch 109/200\n",
            "1257/1257 [==============================] - 0s 59us/step - loss: 2.4463e-04\n",
            "Epoch 110/200\n",
            "1257/1257 [==============================] - 0s 61us/step - loss: 2.4555e-04\n",
            "Epoch 111/200\n",
            "1257/1257 [==============================] - 0s 58us/step - loss: 2.4496e-04\n",
            "Epoch 112/200\n",
            "1257/1257 [==============================] - 0s 59us/step - loss: 2.4537e-04\n",
            "Epoch 113/200\n",
            "1257/1257 [==============================] - 0s 60us/step - loss: 2.4768e-04\n",
            "Epoch 114/200\n",
            "1257/1257 [==============================] - 0s 60us/step - loss: 2.4503e-04\n",
            "Epoch 115/200\n",
            "1257/1257 [==============================] - 0s 57us/step - loss: 2.4525e-04\n",
            "Epoch 116/200\n",
            "1257/1257 [==============================] - 0s 58us/step - loss: 2.4461e-04\n",
            "Epoch 117/200\n",
            "1257/1257 [==============================] - 0s 59us/step - loss: 2.4514e-04\n",
            "Epoch 118/200\n",
            "1257/1257 [==============================] - 0s 58us/step - loss: 2.4503e-04\n",
            "Epoch 119/200\n",
            "1257/1257 [==============================] - 0s 60us/step - loss: 2.4466e-04\n",
            "Epoch 120/200\n",
            "1257/1257 [==============================] - 0s 61us/step - loss: 2.4486e-04\n",
            "Epoch 121/200\n",
            "1257/1257 [==============================] - 0s 59us/step - loss: 2.4484e-04\n",
            "Epoch 122/200\n",
            "1257/1257 [==============================] - 0s 61us/step - loss: 2.4502e-04\n",
            "Epoch 123/200\n",
            "1257/1257 [==============================] - 0s 61us/step - loss: 2.4476e-04\n",
            "Epoch 124/200\n",
            "1257/1257 [==============================] - 0s 62us/step - loss: 2.4533e-04\n",
            "Epoch 125/200\n",
            "1257/1257 [==============================] - 0s 59us/step - loss: 2.4595e-04\n",
            "Epoch 126/200\n",
            "1257/1257 [==============================] - 0s 61us/step - loss: 2.4481e-04\n",
            "Epoch 127/200\n",
            "1257/1257 [==============================] - 0s 60us/step - loss: 2.4543e-04\n",
            "Epoch 128/200\n",
            "1257/1257 [==============================] - 0s 60us/step - loss: 2.4521e-04\n",
            "Epoch 129/200\n",
            "1257/1257 [==============================] - 0s 60us/step - loss: 2.4596e-04\n",
            "Epoch 130/200\n",
            "1257/1257 [==============================] - 0s 59us/step - loss: 2.4674e-04\n",
            "Epoch 131/200\n",
            "1257/1257 [==============================] - 0s 69us/step - loss: 2.4791e-04\n",
            "Epoch 132/200\n",
            "1257/1257 [==============================] - 0s 61us/step - loss: 2.4485e-04\n",
            "Epoch 133/200\n",
            "1257/1257 [==============================] - 0s 61us/step - loss: 2.4485e-04\n",
            "Epoch 134/200\n",
            "1257/1257 [==============================] - 0s 64us/step - loss: 2.4676e-04\n",
            "Epoch 135/200\n",
            "1257/1257 [==============================] - 0s 61us/step - loss: 2.4628e-04\n",
            "Epoch 136/200\n",
            "1257/1257 [==============================] - 0s 61us/step - loss: 2.4702e-04\n",
            "Epoch 137/200\n",
            "1257/1257 [==============================] - 0s 61us/step - loss: 2.4539e-04\n",
            "Epoch 138/200\n",
            "1257/1257 [==============================] - 0s 59us/step - loss: 2.4547e-04\n",
            "Epoch 139/200\n",
            "1257/1257 [==============================] - 0s 61us/step - loss: 2.4490e-04\n",
            "Epoch 140/200\n",
            "1257/1257 [==============================] - 0s 59us/step - loss: 2.4549e-04\n",
            "Epoch 141/200\n",
            "1257/1257 [==============================] - 0s 58us/step - loss: 2.4464e-04\n",
            "Epoch 142/200\n",
            "1257/1257 [==============================] - 0s 61us/step - loss: 2.4800e-04\n",
            "Epoch 143/200\n",
            "1257/1257 [==============================] - 0s 60us/step - loss: 2.4514e-04\n",
            "Epoch 144/200\n",
            "1257/1257 [==============================] - 0s 73us/step - loss: 2.4460e-04\n",
            "Epoch 145/200\n",
            "1257/1257 [==============================] - 0s 62us/step - loss: 2.5251e-04\n",
            "Epoch 146/200\n",
            "1257/1257 [==============================] - 0s 60us/step - loss: 2.4581e-04\n",
            "Epoch 147/200\n",
            "1257/1257 [==============================] - 0s 63us/step - loss: 2.4656e-04\n",
            "Epoch 148/200\n",
            "1257/1257 [==============================] - 0s 64us/step - loss: 2.4621e-04\n",
            "Epoch 149/200\n",
            "1257/1257 [==============================] - 0s 59us/step - loss: 2.4576e-04\n",
            "Epoch 150/200\n",
            "1257/1257 [==============================] - 0s 59us/step - loss: 2.4522e-04\n",
            "Epoch 151/200\n",
            "1257/1257 [==============================] - 0s 59us/step - loss: 2.4547e-04\n",
            "Epoch 152/200\n",
            "1257/1257 [==============================] - 0s 61us/step - loss: 2.4740e-04\n",
            "Epoch 153/200\n",
            "1257/1257 [==============================] - 0s 62us/step - loss: 2.4423e-04\n",
            "Epoch 154/200\n",
            "1257/1257 [==============================] - 0s 62us/step - loss: 2.4837e-04\n",
            "Epoch 155/200\n",
            "1257/1257 [==============================] - 0s 59us/step - loss: 2.4672e-04\n",
            "Epoch 156/200\n",
            "1257/1257 [==============================] - 0s 60us/step - loss: 2.4486e-04\n",
            "Epoch 157/200\n",
            "1257/1257 [==============================] - 0s 63us/step - loss: 2.4590e-04\n",
            "Epoch 158/200\n",
            "1257/1257 [==============================] - 0s 62us/step - loss: 2.4717e-04\n",
            "Epoch 159/200\n",
            "1257/1257 [==============================] - 0s 62us/step - loss: 2.4651e-04\n",
            "Epoch 160/200\n",
            "1257/1257 [==============================] - 0s 59us/step - loss: 2.4623e-04\n",
            "Epoch 161/200\n",
            "1257/1257 [==============================] - 0s 60us/step - loss: 2.4524e-04\n",
            "Epoch 162/200\n",
            "1257/1257 [==============================] - 0s 60us/step - loss: 2.4789e-04\n",
            "Epoch 163/200\n",
            "1257/1257 [==============================] - 0s 61us/step - loss: 2.4865e-04\n",
            "Epoch 164/200\n",
            "1257/1257 [==============================] - 0s 61us/step - loss: 2.4597e-04\n",
            "Epoch 165/200\n",
            "1257/1257 [==============================] - 0s 61us/step - loss: 2.4549e-04\n",
            "Epoch 166/200\n",
            "1257/1257 [==============================] - 0s 58us/step - loss: 2.4938e-04\n",
            "Epoch 167/200\n",
            "1257/1257 [==============================] - 0s 58us/step - loss: 2.5009e-04\n",
            "Epoch 168/200\n",
            "1257/1257 [==============================] - 0s 60us/step - loss: 2.4625e-04\n",
            "Epoch 169/200\n",
            "1257/1257 [==============================] - 0s 59us/step - loss: 2.4551e-04\n",
            "Epoch 170/200\n",
            "1257/1257 [==============================] - 0s 62us/step - loss: 2.4821e-04\n",
            "Epoch 171/200\n",
            "1257/1257 [==============================] - 0s 63us/step - loss: 2.4474e-04\n",
            "Epoch 172/200\n",
            "1257/1257 [==============================] - 0s 62us/step - loss: 2.4590e-04\n",
            "Epoch 173/200\n",
            "1257/1257 [==============================] - 0s 63us/step - loss: 2.4612e-04\n",
            "Epoch 174/200\n",
            "1257/1257 [==============================] - 0s 62us/step - loss: 2.4675e-04\n",
            "Epoch 175/200\n",
            "1257/1257 [==============================] - 0s 63us/step - loss: 2.4686e-04\n",
            "Epoch 176/200\n",
            "1257/1257 [==============================] - 0s 59us/step - loss: 2.4455e-04\n",
            "Epoch 177/200\n",
            "1257/1257 [==============================] - 0s 58us/step - loss: 2.4615e-04\n",
            "Epoch 178/200\n",
            "1257/1257 [==============================] - 0s 61us/step - loss: 2.4733e-04\n",
            "Epoch 179/200\n",
            "1257/1257 [==============================] - 0s 59us/step - loss: 2.4879e-04\n",
            "Epoch 180/200\n",
            "1257/1257 [==============================] - 0s 58us/step - loss: 2.4488e-04\n",
            "Epoch 181/200\n",
            "1257/1257 [==============================] - 0s 60us/step - loss: 2.4823e-04\n",
            "Epoch 182/200\n",
            "1257/1257 [==============================] - 0s 62us/step - loss: 2.4461e-04\n",
            "Epoch 183/200\n",
            "1257/1257 [==============================] - 0s 62us/step - loss: 2.4706e-04\n",
            "Epoch 184/200\n",
            "1257/1257 [==============================] - 0s 60us/step - loss: 2.4695e-04\n",
            "Epoch 185/200\n",
            "1257/1257 [==============================] - 0s 62us/step - loss: 2.4783e-04\n",
            "Epoch 186/200\n",
            "1257/1257 [==============================] - 0s 60us/step - loss: 2.4984e-04\n",
            "Epoch 187/200\n",
            "1257/1257 [==============================] - 0s 62us/step - loss: 2.4726e-04\n",
            "Epoch 188/200\n",
            "1257/1257 [==============================] - 0s 61us/step - loss: 2.4867e-04\n",
            "Epoch 189/200\n",
            "1257/1257 [==============================] - 0s 59us/step - loss: 2.4743e-04\n",
            "Epoch 190/200\n",
            "1257/1257 [==============================] - 0s 60us/step - loss: 2.4596e-04\n",
            "Epoch 191/200\n",
            "1257/1257 [==============================] - 0s 62us/step - loss: 2.5860e-04\n",
            "Epoch 192/200\n",
            "1257/1257 [==============================] - 0s 62us/step - loss: 2.5105e-04\n",
            "Epoch 193/200\n",
            "1257/1257 [==============================] - 0s 59us/step - loss: 2.4587e-04\n",
            "Epoch 194/200\n",
            "1257/1257 [==============================] - 0s 61us/step - loss: 2.5052e-04\n",
            "Epoch 195/200\n",
            "1257/1257 [==============================] - 0s 60us/step - loss: 2.4545e-04\n",
            "Epoch 196/200\n",
            "1257/1257 [==============================] - 0s 62us/step - loss: 2.4862e-04\n",
            "Epoch 197/200\n",
            "1257/1257 [==============================] - 0s 59us/step - loss: 2.4639e-04\n",
            "Epoch 198/200\n",
            "1257/1257 [==============================] - 0s 64us/step - loss: 2.4703e-04\n",
            "Epoch 199/200\n",
            "1257/1257 [==============================] - 0s 62us/step - loss: 2.4557e-04\n",
            "Epoch 200/200\n",
            "1257/1257 [==============================] - 0s 61us/step - loss: 2.4524e-04\n"
          ],
          "name": "stdout"
        },
        {
          "output_type": "execute_result",
          "data": {
            "text/plain": [
              "<keras.callbacks.History at 0x7f8283eb8c88>"
            ]
          },
          "metadata": {
            "tags": []
          },
          "execution_count": 21
        }
      ]
    },
    {
      "metadata": {
        "id": "q8cg8x1V9i05",
        "colab_type": "text"
      },
      "cell_type": "markdown",
      "source": [
        "**Part III : making predictions and visullize the resluts**"
      ]
    },
    {
      "metadata": {
        "id": "hGy3xmHp46tu",
        "colab_type": "code",
        "colab": {
          "resources": {
            "http://localhost:8080/nbextensions/google.colab/files.js": {
              "data": "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",
              "ok": true,
              "headers": [
                [
                  "content-type",
                  "application/javascript"
                ]
              ],
              "status": 200,
              "status_text": ""
            }
          },
          "base_uri": "https://localhost:8080/",
          "height": 74
        },
        "outputId": "aecd3576-5126-41d9-fd9f-4294e6f07c6c"
      },
      "cell_type": "code",
      "source": [
        "#improting the test set\n",
        "from google.colab import files\n",
        "uploaded = files.upload()\n"
      ],
      "execution_count": 27,
      "outputs": [
        {
          "output_type": "display_data",
          "data": {
            "text/html": [
              "\n",
              "     <input type=\"file\" id=\"files-a5902d89-eaa7-4e72-b3f6-9acab896d167\" name=\"files[]\" multiple disabled />\n",
              "     <output id=\"result-a5902d89-eaa7-4e72-b3f6-9acab896d167\">\n",
              "      Upload widget is only available when the cell has been executed in the\n",
              "      current browser session. Please rerun this cell to enable.\n",
              "      </output>\n",
              "      <script src=\"/nbextensions/google.colab/files.js\"></script> "
            ],
            "text/plain": [
              "<IPython.core.display.HTML object>"
            ]
          },
          "metadata": {
            "tags": []
          }
        },
        {
          "output_type": "stream",
          "text": [
            "Saving Google_Stock_Price_Test.csv to Google_Stock_Price_Test (1).csv\n"
          ],
          "name": "stdout"
        }
      ]
    },
    {
      "metadata": {
        "id": "pHm9yiim6UZm",
        "colab_type": "code",
        "colab": {}
      },
      "cell_type": "code",
      "source": [
        "import io\n",
        "test_set = pd.read_csv(io.BytesIO(uploaded['Google_Stock_Price_Test.csv']))\n"
      ],
      "execution_count": 0,
      "outputs": []
    },
    {
      "metadata": {
        "id": "z4D4Ghar6gMX",
        "colab_type": "code",
        "colab": {}
      },
      "cell_type": "code",
      "source": [
        "real_stock_price = test_set.iloc[:,1:2].values\n"
      ],
      "execution_count": 0,
      "outputs": []
    },
    {
      "metadata": {
        "id": "Rj98j3Ol7pcE",
        "colab_type": "code",
        "colab": {}
      },
      "cell_type": "code",
      "source": [
        "# getting the predicted stockprices of 2017\n",
        "inputs = real_stock_price\n",
        "inputs = sc.transform(inputs)\n",
        "inputs = np.reshape(inputs , (20 , 1 ,1))\n",
        "predicted_stock_prices = regressor.predict(inputs)\n",
        "predicted_stock_prices = sc.inverse_transform(predicted_stock_prices)"
      ],
      "execution_count": 0,
      "outputs": []
    },
    {
      "metadata": {
        "id": "AUm0uC6f-SHP",
        "colab_type": "code",
        "colab": {
          "base_uri": "https://localhost:8080/",
          "height": 376
        },
        "outputId": "b1c1ce74-a705-46c4-d6cf-8cf13bb44e61"
      },
      "cell_type": "code",
      "source": [
        "# visulizing the results\n",
        "plt.plot(real_stock_price , color = \"red\" , label = 'Real Google Stock Price')\n",
        "plt.plot(predicted_stock_prices , color = \"blue\" , label = 'Predicted Google Stock Price')\n",
        "plt.title(\"Google stock price prediction\")\n",
        "plt.xlabel(\"Time\")\n",
        "plt.ylabel(\"Google stock prices\")\n",
        "plt.legend()\n",
        "plt.show()"
      ],
      "execution_count": 38,
      "outputs": [
        {
          "output_type": "display_data",
          "data": {
            "image/png": "[encoded data removed]",
            "text/plain": [
              "<Figure size 576x396 with 1 Axes>"
            ]
          },
          "metadata": {
            "tags": []
          }
        }
      ]
    },
    {
      "metadata": {
        "id": "asg0EwqpeEl6",
        "colab_type": "text"
      },
      "cell_type": "markdown",
      "source": [
        "**Part IV : Evaluate the model**"
      ]
    },
    {
      "metadata": {
        "id": "lEFksil1eN6v",
        "colab_type": "code",
        "colab": {}
      },
      "cell_type": "code",
      "source": [
        "import math\n",
        "from sklearn.metrics import mean_squared_error\n",
        "rmse = math.sqrt(mean_squared_error(real_stock_price , predicted_stock_prices))"
      ],
      "execution_count": 0,
      "outputs": []
    },
    {
      "metadata": {
        "id": "ShLKUSV4em7l",
        "colab_type": "code",
        "colab": {
          "base_uri": "https://localhost:8080/",
          "height": 34
        },
        "outputId": "471f6a29-7af2-4d2a-b6ea-f950188648db"
      },
      "cell_type": "code",
      "source": [
        "rmse/800"
      ],
      "execution_count": 53,
      "outputs": [
        {
          "output_type": "execute_result",
          "data": {
            "text/plain": [
              "0.004585434504728267"
            ]
          },
          "metadata": {
            "tags": []
          },
          "execution_count": 53
        }
      ]
    }
  ]
}